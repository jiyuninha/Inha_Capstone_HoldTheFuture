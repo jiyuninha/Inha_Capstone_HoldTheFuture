{
 "cells": [
  {
   "cell_type": "code",
   "execution_count": 1,
   "id": "55d0dd0c",
   "metadata": {},
   "outputs": [],
   "source": [
    "from selenium import webdriver"
   ]
  },
  {
   "cell_type": "code",
   "execution_count": 2,
   "id": "e70a947c",
   "metadata": {},
   "outputs": [],
   "source": [
    "import time"
   ]
  },
  {
   "cell_type": "code",
   "execution_count": 3,
   "id": "911c3c92",
   "metadata": {},
   "outputs": [],
   "source": [
    "from urllib.request import (urlopen, urlparse, urlunparse, urlretrieve)"
   ]
  },
  {
   "cell_type": "code",
   "execution_count": 10,
   "id": "3d7daedc",
   "metadata": {},
   "outputs": [],
   "source": [
    "chrome_path = 'C:\\Program Files\\Google\\Chrome\\Application\\chrome.exe'"
   ]
  },
  {
   "cell_type": "code",
   "execution_count": 5,
   "id": "20d5f5a9",
   "metadata": {},
   "outputs": [],
   "source": [
    "base_url = \"https://www.google.co.kr/imghp\""
   ]
  },
  {
   "cell_type": "code",
   "execution_count": 6,
   "id": "05bf18dc",
   "metadata": {},
   "outputs": [],
   "source": [
    "chrome_options = webdriver.ChromeOptions()\n",
    "chrome_options.add_argument(\"lang=ko_KR\")\n",
    "chrome_options.add_argument('window-size=1920x1080')"
   ]
  },
  {
   "cell_type": "code",
   "execution_count": 15,
   "id": "0c534f94",
   "metadata": {},
   "outputs": [],
   "source": [
    "def selenium_scroll_option():\n",
    "  SCROLL_PAUSE_SEC = 3\n",
    "  \n",
    "  # 스크롤 높이 가져옴\n",
    "  last_height = driver.execute_script(\"return document.body.scrollHeight\")\n",
    "  \n",
    "  while True:\n",
    "    # 끝까지 스크롤 다운\n",
    "    driver.execute_script(\"window.scrollTo(0, document.body.scrollHeight);\")\n",
    "\n",
    "    # 1초 대기\n",
    "    time.sleep(SCROLL_PAUSE_SEC)\n",
    "\n",
    "    # 스크롤 다운 후 스크롤 높이 다시 가져옴\n",
    "    new_height = driver.execute_script(\"return document.body.scrollHeight\")\n",
    "  \n",
    "    if new_height == last_height:\n",
    "        break\n",
    "    last_height = new_height"
   ]
  },
  {
   "cell_type": "code",
   "execution_count": 14,
   "id": "b6bfea9f",
   "metadata": {},
   "outputs": [],
   "source": [
    "# 검색어로 이미지 크롤링 하기\n",
    "one = './플라스틱 컵/'\n",
    "two = './일회용 컵/'\n",
    "three = './커피 플라스틱 컵/'"
   ]
  },
  {
   "cell_type": "code",
   "execution_count": 17,
   "id": "e3b4ec21",
   "metadata": {},
   "outputs": [
    {
     "name": "stdout",
     "output_type": "stream",
     "text": [
      "Defaulting to user installation because normal site-packages is not writeable\n",
      "Collecting pandas\n",
      "  Downloading pandas-0.25.3-cp35-cp35m-win_amd64.whl (8.8 MB)\n",
      "Collecting numpy>=1.13.3\n",
      "  Downloading numpy-1.18.5-cp35-cp35m-win_amd64.whl (12.7 MB)\n",
      "Requirement already satisfied: python-dateutil>=2.6.1 in c:\\programdata\\anaconda3\\envs\\img_crawling\\lib\\site-packages (from pandas) (2.8.2)\n",
      "Collecting pytz>=2017.2\n",
      "  Downloading pytz-2023.3.post1-py2.py3-none-any.whl (502 kB)\n",
      "Requirement already satisfied: six>=1.5 in c:\\programdata\\anaconda3\\envs\\img_crawling\\lib\\site-packages (from python-dateutil>=2.6.1->pandas) (1.16.0)\n",
      "Installing collected packages: pytz, numpy, pandas\n",
      "Successfully installed numpy-1.18.5 pandas-0.25.3 pytz-2023.3.post1\n"
     ]
    },
    {
     "name": "stderr",
     "output_type": "stream",
     "text": [
      "DEPRECATION: Python 3.5 reached the end of its life on September 13th, 2020. Please upgrade your Python as Python 3.5 is no longer maintained. pip 21.0 will drop support for Python 3.5 in January 2021. pip 21.0 will remove support for this functionality.\n",
      "  WARNING: The script f2py.exe is installed in 'C:\\Users\\jywoo\\AppData\\Roaming\\Python\\Python35\\Scripts' which is not on PATH.\n",
      "  Consider adding this directory to PATH or, if you prefer to suppress this warning, use --no-warn-script-location.\n"
     ]
    }
   ],
   "source": [
    "!pip install pandas"
   ]
  },
  {
   "cell_type": "code",
   "execution_count": 21,
   "id": "84cbe27c",
   "metadata": {},
   "outputs": [
    {
     "name": "stdout",
     "output_type": "stream",
     "text": [
      "Defaulting to user installation because normal site-packages is not writeable\n"
     ]
    },
    {
     "name": "stderr",
     "output_type": "stream",
     "text": [
      "DEPRECATION: Python 3.5 reached the end of its life on September 13th, 2020. Please upgrade your Python as Python 3.5 is no longer maintained. pip 21.0 will drop support for Python 3.5 in January 2021. pip 21.0 will remove support for this functionality.\n",
      "ERROR: Could not find a version that satisfies the requirement python==lastest\n",
      "ERROR: No matching distribution found for python==lastest\n"
     ]
    }
   ],
   "source": [
    "!pip install python==lastest"
   ]
  },
  {
   "cell_type": "code",
   "execution_count": 19,
   "id": "51e4fe9f",
   "metadata": {},
   "outputs": [
    {
     "ename": "ImportError",
     "evalue": "No module named 'pandas'",
     "output_type": "error",
     "traceback": [
      "\u001b[1;31m---------------------------------------------------------------------------\u001b[0m",
      "\u001b[1;31mImportError\u001b[0m                               Traceback (most recent call last)",
      "\u001b[1;32m<ipython-input-19-676ac7678060>\u001b[0m in \u001b[0;36m<module>\u001b[1;34m()\u001b[0m\n\u001b[0;32m      4\u001b[0m \u001b[1;32mimport\u001b[0m \u001b[0murllib\u001b[0m\u001b[1;33m.\u001b[0m\u001b[0mrequest\u001b[0m\u001b[1;33m\u001b[0m\u001b[0m\n\u001b[0;32m      5\u001b[0m \u001b[1;32mimport\u001b[0m \u001b[0mos\u001b[0m\u001b[1;33m\u001b[0m\u001b[0m\n\u001b[1;32m----> 6\u001b[1;33m \u001b[1;32mimport\u001b[0m \u001b[0mpandas\u001b[0m \u001b[1;32mas\u001b[0m \u001b[0mpd\u001b[0m\u001b[1;33m\u001b[0m\u001b[0m\n\u001b[0m\u001b[0;32m      7\u001b[0m \u001b[1;33m\u001b[0m\u001b[0m\n\u001b[0;32m      8\u001b[0m \u001b[1;31m# 키워드 검색하기\u001b[0m\u001b[1;33m\u001b[0m\u001b[1;33m\u001b[0m\u001b[0m\n",
      "\u001b[1;31mImportError\u001b[0m: No module named 'pandas'"
     ]
    }
   ],
   "source": [
    "from selenium import webdriver\n",
    "from selenium.webdriver.common.keys import Keys\n",
    "import time\n",
    "import urllib.request\n",
    "import os\n",
    "import pandas as pd\n",
    "\n",
    "# 키워드 검색하기\n",
    "\n",
    "a=input(\"검색할 키워드를 입력 : \")\n",
    "image_name = input(\"저장할 이미지 이름 : \")\n",
    "#b=int(input(\"몇 개 저장할래? : \"))\n",
    "driver = webdriver.Chrome(chrome_path)\n",
    "driver.get('http://www.google.co.kr/imghp?hl=ko')\n",
    "browser = driver.find_element_by_name(\"q\")\n",
    "browser.send_keys(a)\n",
    "browser.send_keys(Keys.RETURN)\n",
    "\n",
    "\n",
    "\n",
    "# 클래스를 찾고 해당 클래스의 src 리스트를 만들자\n",
    "\n",
    "selenium_scroll_option() # 스크롤하여 이미지를 많이 확보\n",
    "driver.find_elements_by_xpath('//*[@id=\"islmp\"]/div/div/div/div/div[3]/div[2]/input')[0].click() # 이미지 더보기 클릭\n",
    "selenium_scroll_option()\n",
    "\n",
    "\n",
    "\n",
    "'''이미지 src요소를 리스트업해서 이미지 url 저장'''\n",
    "\n",
    "images = driver.find_elements_by_css_selector(\".rg_i.Q4LuWd\") #  클래스 네임에서 공백은 .을 찍어줌\n",
    "images_url = []\n",
    "for i in images: \n",
    "   \n",
    "   if i.get_attribute('src')!= None :\n",
    "        images_url.append(i.get_attribute('src'))\n",
    "   else :\n",
    "       images_url.append(i.get_attribute('data-src'))\n",
    "driver.close()\n",
    "\n",
    "\n",
    "\n",
    "# 겹치는 이미지 url 제거\n",
    "\n",
    "print(\"전체 다운로드한 이미지 개수: {}\\n동일한 이미지를 제거한 이미지 개수: {}\".format(len(images_url), len(pd.DataFrame(images_url)[0].unique())))\n",
    "images_url=pd.DataFrame(images_url)[0].unique()\n",
    "\n",
    "\n",
    "        \n",
    "'''해당하는 파일에 이미지 다운로드'''        \n",
    "       \n",
    "if image_name == 'shark' :   \n",
    "  for t, url in enumerate(images_url, 0):        \n",
    "     urlretrieve(url, shark + image_name + '_' + str(t) + '.jpg')\n",
    "  driver.close()\n",
    "  \n",
    "elif image_name == 'whale' :\n",
    "  for t, url in enumerate(images_url, 0):        \n",
    "     urlretrieve(url, whale + image_name + '_' + str(t) + '.jpg')\n",
    "  driver.close()    \n",
    "\n",
    "elif image_name == 'dolphin' :\n",
    "  for t, url in enumerate(images_url, 0):        \n",
    "     urlretrieve(url, dolphin + image_name + '_' + str(t) + '.jpg')\n",
    "  driver.close()\n"
   ]
  },
  {
   "cell_type": "code",
   "execution_count": null,
   "id": "b04d16c2",
   "metadata": {},
   "outputs": [],
   "source": []
  }
 ],
 "metadata": {
  "kernelspec": {
   "display_name": "Python 3",
   "language": "python",
   "name": "python3"
  },
  "language_info": {
   "codemirror_mode": {
    "name": "ipython",
    "version": 3
   },
   "file_extension": ".py",
   "mimetype": "text/x-python",
   "name": "python",
   "nbconvert_exporter": "python",
   "pygments_lexer": "ipython3",
   "version": "3.5.6"
  }
 },
 "nbformat": 4,
 "nbformat_minor": 5
}
